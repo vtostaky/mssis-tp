{
 "cells": [
  {
   "cell_type": "code",
   "execution_count": 19,
   "metadata": {},
   "outputs": [],
   "source": [
    "from selenium import webdriver\n",
    "from selenium.webdriver.common import action_chains, keys\n",
    "from urllib.parse import urljoin\n",
    "import time"
   ]
  },
  {
   "cell_type": "code",
   "execution_count": 20,
   "metadata": {},
   "outputs": [],
   "source": [
    "url_search = 'https://www.google.fr'\n",
    "term='esiea'"
   ]
  },
  {
   "cell_type": "code",
   "execution_count": 21,
   "metadata": {},
   "outputs": [],
   "source": [
    "browser = webdriver.Chrome()\n",
    "action = action_chains.ActionChains(browser)\n",
    "browser.get(urljoin(url_search, \"/?gws_rd=ssl\"))\n",
    "browser.find_element_by_id(\"lst-ib\").clear()\n",
    "browser.find_element_by_id(\"lst-ib\").send_keys(term)\n",
    "\n",
    "action.send_keys(keys.Keys.ENTER)\n",
    "action.perform()\n",
    "\n",
    "time.sleep(5)\n",
    "links = browser.find_elements_by_xpath(\"//h3[@class='r']/a[@href]\")"
   ]
  },
  {
   "cell_type": "code",
   "execution_count": 22,
   "metadata": {},
   "outputs": [
    {
     "data": {
      "text/plain": [
       "[(b'ESIEA: Ecole ing\\xc3\\xa9nieur Paris - Laval - Ecole ing\\xc3\\xa9nieur informatique',\n",
       "  'https://www.esiea.fr/'),\n",
       " (b'Formations', 'https://www.esiea.fr/formation-ingenieurs/'),\n",
       " (b'Financement et tarifs',\n",
       "  'https://www.esiea.fr/financement-ecole-ingenieurs/'),\n",
       " (b'Nous contacter', 'https://www.esiea.fr/contacter/'),\n",
       " (b'Les campus', 'https://www.esiea.fr/les-campus/'),\n",
       " (b'Admissions', 'https://www.esiea.fr/admission-ecole-ingenieurs/'),\n",
       " (b\"L'\\xc3\\x89cole\", 'https://www.esiea.fr/ecole-ingenieurs/'),\n",
       " (b\"ESIEA - Paris, Laval : Palmar\\xc3\\xa8s des \\xc3\\xa9coles d'ing\\xc3\\xa9nieurs 2018 - L ...\",\n",
       "  'http://www.letudiant.fr/palmares/palmares-des-ecoles-d-ingenieurs/esiea-paris-laval.html'),\n",
       " (b'ESIEA campus de Paris Ivry-sur-Seine, Ivry-sur-Seine (94) - Letudiant.fr',\n",
       "  'http://www.letudiant.fr/etudes/annuaire-enseignement-superieur/etablissement/etablissement-ecole-superieure-du-monde-numerique-6947.html'),\n",
       " (b\"ESIEA : \\xc3\\x89cole d'ing\\xc3\\xa9nieurs du monde num\\xc3\\xa9rique - Dimension-Ingenieur\",\n",
       "  'https://www.dimension-ingenieur.com/esiea-ecole-ingenieurs-generaliste-informatique-electronique-automatique/412'),\n",
       " (b'ESIEA - Accueil | Facebook', 'https://fr-fr.facebook.com/esiea/'),\n",
       " (b\"ESIEA Ivry-sur-Seine : S'inscrire, Cursus, Formation - Studyrama\",\n",
       "  'http://www.studyrama.com/formations/fiche-ecole/ecole-d-ingenieur/esiea-ecole-superieure-d-informatique-electronique-automatique-277'),\n",
       " (b\"ESIEA \\xc3\\x89cole d'Ing\\xc3\\xa9nieurs du Monde Num\\xc3\\xa9rique N\\xc2\\xb012 au classement ...\",\n",
       "  'http://www.meilleures-grandes-ecoles.com/classement-ecoles-d-ingenieurs-generalistes-post-bac/esiea-ecole-d-ingenieurs-du-monde-numerique-ecole-d-ingenieurs-en-sciences-et-technologies-du-numerique.html')]"
      ]
     },
     "execution_count": 22,
     "metadata": {},
     "output_type": "execute_result"
    }
   ],
   "source": [
    "results = []\n",
    "for link in links:\n",
    "    title = link.text.encode('utf8')\n",
    "    url = link.get_attribute('href')\n",
    "    title_url = (title, url)\n",
    "    results.append(title_url)\n",
    "browser.quit()\n",
    "results"
   ]
  },
  {
   "cell_type": "code",
   "execution_count": null,
   "metadata": {},
   "outputs": [],
   "source": []
  }
 ],
 "metadata": {
  "kernelspec": {
   "display_name": "Python 3",
   "language": "python",
   "name": "python3"
  },
  "language_info": {
   "codemirror_mode": {
    "name": "ipython",
    "version": 3
   },
   "file_extension": ".py",
   "mimetype": "text/x-python",
   "name": "python",
   "nbconvert_exporter": "python",
   "pygments_lexer": "ipython3",
   "version": "3.6.4"
  }
 },
 "nbformat": 4,
 "nbformat_minor": 2
}
