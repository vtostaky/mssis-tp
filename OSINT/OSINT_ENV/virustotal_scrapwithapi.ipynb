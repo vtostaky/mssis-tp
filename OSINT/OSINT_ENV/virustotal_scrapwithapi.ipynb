{
 "cells": [
  {
   "cell_type": "code",
   "execution_count": 4,
   "metadata": {},
   "outputs": [],
   "source": [
    "import requests"
   ]
  },
  {
   "cell_type": "code",
   "execution_count": 5,
   "metadata": {},
   "outputs": [
    {
     "name": "stdout",
     "output_type": "stream",
     "text": [
      "Score 54 / 65\n",
      "Bkav: W32.RabInND.Worm\n",
      "MicroWorld-eScan: Trojan.GenericKD.12514397\n",
      "nProtect: Ransom/W32.BadRabbit.410760\n",
      "CAT-QuickHeal: Ransom.BadRabbit.A5\n",
      "McAfee: RDN/Ransom-O\n",
      "Cylance: Unsafe\n",
      "Zillya: Trojan.Diskcoder.Win32.101\n",
      "AegisLab: Uds.Dangerousobject.Multi!c\n",
      "K7AntiVirus: Trojan ( 0051a4141 )\n",
      "K7GW: Trojan ( 0051a4141 )\n",
      "TrendMicro: Ransom_BADRABBIT.A\n",
      "F-Prot: W32/BadRabbit.A\n",
      "Symantec: Ransom.BadRabbit\n",
      "TrendMicro-HouseCall: Ransom_BADRABBIT.A\n",
      "Paloalto: generic.ml\n",
      "ClamAV: Win.Trojan.Agent-6355731-0\n",
      "Kaspersky: Trojan.Win32.Agentb.bxhn\n",
      "BitDefender: Trojan.GenericKD.12514397\n",
      "NANO-Antivirus: Trojan.Win32.Petya.euuhye\n",
      "Avast: Win32:Malware-gen\n",
      "Tencent: Win32.Trojan.Badrabbit.Lfbz\n",
      "Ad-Aware: Trojan.GenericKD.12514397\n",
      "Sophos: Mal/Ransom-FK\n",
      "DrWeb: Trojan.BadRabbit.3\n",
      "VIPRE: Trojan.Win32.Generic!BT\n",
      "McAfee-GW-Edition: RDN/Ransom-O\n",
      "Emsisoft: Trojan.GenericKD.12514397 (B)\n",
      "Cyren: W32/BadRabbit.CHEE-5527\n",
      "Jiangmin: Trojan.BadRabbit.c\n",
      "Webroot: W32.Badrabbit.Ransom\n",
      "Avira: TR/Diskcoder.12352\n",
      "Antiy-AVL: Trojan/Win32.AGeneric\n",
      "Endgame: malicious (high confidence)\n",
      "Arcabit: Trojan.Generic.DBEF45D\n",
      "ViRobot: Trojan.Win32.S.Ransom.410760\n",
      "ZoneAlarm: Trojan.Win32.Agentb.bxhn\n",
      "Microsoft: Ransom:Win32/Tibbar.A\n",
      "AhnLab-V3: Trojan/Win32.Diskcoder.C2212719\n",
      "ALYac: Trojan.Ransom.BadRabbit\n",
      "AVware: Trojan.Win32.Generic!BT\n",
      "MAX: malware (ai score=100)\n",
      "VBA32: Trojan.BadRabbit\n",
      "Malwarebytes: Ransom.Filecoder\n",
      "Zoner: Trojan.Badrabbit\n",
      "ESET-NOD32: Win32/Diskcoder.D\n",
      "Rising: Trojan.Ransom.BadRabbit!1.AC3A (KTSE)\n",
      "Yandex: Trojan.Diskcoder!\n",
      "Ikarus: Trojan.Win32.Diskcoder\n",
      "eGambit: ransom.BadRabbit\n",
      "GData: Win32.Worm.BadRabbit.D\n",
      "AVG: Win32:Malware-gen\n",
      "Panda: W32/Ransom.G.worm\n",
      "CrowdStrike: malicious_confidence_100% (W)\n",
      "Qihoo-360: Win32.Ransom.BadRabbit\n"
     ]
    }
   ],
   "source": [
    "sha256 = '579fd8a0385482fb4c789561a30b09f25671e86422f40ef5cca2036b28f99648'\n",
    "api_key = 'af82be6ef2d245b409ad3d6283b3b8480a3f074db95091aeff63b299804d8413'\n",
    "url = 'https://www.virustotal.com/vtapi/v2/file/report'\n",
    "\n",
    "res = requests.get(url,params={'apikey':api_key,'resource':sha256})\n",
    "\n",
    "print(\"Score %s / %s\" % (res.json()[\"positives\"], res.json()[\"total\"]))\n",
    "\n",
    "for key,value in res.json()['scans'].items():\n",
    "    if value['detected'] is True:\n",
    "        print('%s: %s' % (key, value['result']))"
   ]
  },
  {
   "cell_type": "code",
   "execution_count": 6,
   "metadata": {},
   "outputs": [],
   "source": [
    "url_scan = 'https://www.virustotal.com/vtapi/v2/file/scan'"
   ]
  },
  {
   "cell_type": "code",
   "execution_count": 12,
   "metadata": {},
   "outputs": [
    {
     "data": {
      "text/plain": [
       "{'md5': '42d7c338c1f88af4944fa144de654c80',\n",
       " 'permalink': 'https://www.virustotal.com/file/e4e25636faca25be19f483c80437acbc4143da4e66d2cc4bcf63cf93381125fb/analysis/1516872069/',\n",
       " 'resource': 'e4e25636faca25be19f483c80437acbc4143da4e66d2cc4bcf63cf93381125fb',\n",
       " 'response_code': 1,\n",
       " 'scan_id': 'e4e25636faca25be19f483c80437acbc4143da4e66d2cc4bcf63cf93381125fb-1516872069',\n",
       " 'sha1': '1fed6c08c048dd926df3253a81a65c84932294b1',\n",
       " 'sha256': 'e4e25636faca25be19f483c80437acbc4143da4e66d2cc4bcf63cf93381125fb',\n",
       " 'verbose_msg': 'Scan request successfully queued, come back later for the report'}"
      ]
     },
     "execution_count": 12,
     "metadata": {},
     "output_type": "execute_result"
    }
   ],
   "source": [
    "payload = {'apikey':api_key}\n",
    "files = {'file':('mimikatz.exe',open('/home/vdrouin/tp/pentest/Win32/mimikatz.exe','rb'))}\n",
    "re = requests.post(url_scan, params=payload,files=files)\n",
    "re.json()"
   ]
  },
  {
   "cell_type": "code",
   "execution_count": null,
   "metadata": {},
   "outputs": [],
   "source": []
  }
 ],
 "metadata": {
  "kernelspec": {
   "display_name": "Python 3",
   "language": "python",
   "name": "python3"
  },
  "language_info": {
   "codemirror_mode": {
    "name": "ipython",
    "version": 3
   },
   "file_extension": ".py",
   "mimetype": "text/x-python",
   "name": "python",
   "nbconvert_exporter": "python",
   "pygments_lexer": "ipython3",
   "version": "3.6.4"
  }
 },
 "nbformat": 4,
 "nbformat_minor": 2
}
