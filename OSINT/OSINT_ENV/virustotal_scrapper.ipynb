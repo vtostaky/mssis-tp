{
 "cells": [
  {
   "cell_type": "code",
   "execution_count": 42,
   "metadata": {},
   "outputs": [],
   "source": [
    "from selenium import webdriver\n",
    "from selenium.webdriver.common import action_chains, keys\n",
    "from urllib.parse import urljoin\n",
    "import time"
   ]
  },
  {
   "cell_type": "code",
   "execution_count": 30,
   "metadata": {},
   "outputs": [],
   "source": [
    "url_search = \"https://www.virustotal.com/#/file/579fd8a0385482fb4c789561a30b09f25671e86422f40ef5cca2036b28f99648/detection\""
   ]
  },
  {
   "cell_type": "code",
   "execution_count": 40,
   "metadata": {},
   "outputs": [
    {
     "data": {
      "text/plain": [
       "'54 / 65'"
      ]
     },
     "execution_count": 40,
     "metadata": {},
     "output_type": "execute_result"
    }
   ],
   "source": [
    "browser = webdriver.Chrome()\n",
    "action = action_chains.ActionChains(browser)\n",
    "browser.get(url_search)\n",
    "time.sleep(5)\n",
    "elem = browser.find_element_by_xpath(\"//h1[@class='header detections malicious style-scope vt-result-header']\")\n",
    "elem.text"
   ]
  },
  {
   "cell_type": "code",
   "execution_count": 41,
   "metadata": {},
   "outputs": [
    {
     "name": "stdout",
     "output_type": "stream",
     "text": [
      "['Ad-Aware', 'Trojan.GenericKD.12514397', 'AegisLab', 'Uds.Dangerousobject.Multi!c', 'AhnLab-V3', 'Trojan/Win32.Diskcoder.C2212719', 'ALYac', 'Trojan.Ransom.BadRabbit', 'Antiy-AVL', 'Trojan/Win32.AGeneric', 'Arcabit', 'Trojan.Generic.DBEF45D', 'Avast', 'Win32:Malware-gen', 'AVG', 'Win32:Malware-gen', 'Avira', 'TR/Diskcoder.12352', 'AVware', 'Trojan.Win32.Generic!BT', 'BitDefender', 'Trojan.GenericKD.12514397', 'Bkav', 'W32.RabInND.Worm', 'CAT-QuickHeal', 'Ransom.BadRabbit.A5', 'ClamAV', 'Win.Trojan.Agent-6355731-0', 'CrowdStrike Falcon', 'malicious_confidence_100% (W)', 'Cylance', 'Unsafe', 'Cyren', 'W32/BadRabbit.CHEE-5527', 'DrWeb', 'Trojan.BadRabbit.3', 'eGambit', 'ransom.BadRabbit', 'Emsisoft', 'Trojan.GenericKD.12514397 (B)', 'Endgame', 'malicious (high confidence)', 'eScan', 'Trojan.GenericKD.12514397', 'ESET-NOD32', 'Win32/Diskcoder.D', 'F-Prot', 'W32/BadRabbit.A', 'GData', 'Win32.Worm.BadRabbit.D', 'Ikarus', 'Trojan.Win32.Diskcoder', 'Jiangmin', 'Trojan.BadRabbit.c', 'K7AntiVirus', 'Trojan ( 0051a4141 )', 'K7GW', 'Trojan ( 0051a4141 )', 'Kaspersky', 'Trojan.Win32.Agentb.bxhn', 'Malwarebytes', 'Ransom.Filecoder', 'MAX', 'malware (ai score=100)', 'McAfee', 'RDN/Ransom-O', 'McAfee-GW-Edition', 'RDN/Ransom-O', 'Microsoft', 'Ransom:Win32/Tibbar.A', 'NANO-Antivirus', 'Trojan.Win32.Petya.euuhye', 'nProtect', 'Ransom/W32.BadRabbit.410760', 'Palo Alto Networks', 'generic.ml', 'Panda', 'W32/Ransom.G.worm', 'Qihoo-360', 'Win32.Ransom.BadRabbit', 'Rising', 'Trojan.Ransom.BadRabbit!1.AC3A (KTSE)', 'Sophos AV', 'Mal/Ransom-FK', 'Symantec', 'Ransom.BadRabbit', 'Tencent', 'Win32.Trojan.Badrabbit.Lfbz', 'TrendMicro', 'Ransom_BADRABBIT.A', 'TrendMicro-HouseCall', 'Ransom_BADRABBIT.A', 'VBA32', 'Trojan.BadRabbit', 'VIPRE', 'Trojan.Win32.Generic!BT', 'ViRobot', 'Trojan.Win32.S.Ransom.410760', 'Webroot', 'W32.Badrabbit.Ransom', 'Yandex', 'Trojan.Diskcoder!', 'Zillya', 'Trojan.Diskcoder.Win32.101', 'ZoneAlarm', 'Trojan.Win32.Agentb.bxhn', 'Zoner', 'Trojan.Badrabbit', 'Avast Mobile Security', 'Clean', 'Baidu', 'Clean', 'CMC', 'Clean', 'Comodo', 'Clean', 'Fortinet', 'Clean', 'Kingsoft', 'Clean', 'SentinelOne', 'Clean', 'Sophos ML', 'Clean', 'SUPERAntiSpyware', 'Clean', 'TheHacker', 'Clean', 'TotalDefense', 'Clean', 'Alibaba', 'Unable to process file type', 'Cybereason', 'Unable to process file type', 'Symantec Mobile Insight', 'Unable to process file type', 'Trustlook', 'Unable to process file type']\n",
      "Ad-Aware: Trojan.GenericKD.12514397\n",
      "AegisLab: Uds.Dangerousobject.Multi!c\n",
      "AhnLab-V3: Trojan/Win32.Diskcoder.C2212719\n",
      "ALYac: Trojan.Ransom.BadRabbit\n",
      "Antiy-AVL: Trojan/Win32.AGeneric\n",
      "Arcabit: Trojan.Generic.DBEF45D\n",
      "Avast: Win32:Malware-gen\n",
      "AVG: Win32:Malware-gen\n",
      "Avira: TR/Diskcoder.12352\n",
      "AVware: Trojan.Win32.Generic!BT\n",
      "BitDefender: Trojan.GenericKD.12514397\n",
      "Bkav: W32.RabInND.Worm\n",
      "CAT-QuickHeal: Ransom.BadRabbit.A5\n",
      "ClamAV: Win.Trojan.Agent-6355731-0\n",
      "CrowdStrike Falcon: malicious_confidence_100% (W)\n",
      "Cylance: Unsafe\n",
      "Cyren: W32/BadRabbit.CHEE-5527\n",
      "DrWeb: Trojan.BadRabbit.3\n",
      "eGambit: ransom.BadRabbit\n",
      "Emsisoft: Trojan.GenericKD.12514397 (B)\n",
      "Endgame: malicious (high confidence)\n",
      "eScan: Trojan.GenericKD.12514397\n",
      "ESET-NOD32: Win32/Diskcoder.D\n",
      "F-Prot: W32/BadRabbit.A\n",
      "GData: Win32.Worm.BadRabbit.D\n",
      "Ikarus: Trojan.Win32.Diskcoder\n",
      "Jiangmin: Trojan.BadRabbit.c\n",
      "K7AntiVirus: Trojan ( 0051a4141 )\n",
      "K7GW: Trojan ( 0051a4141 )\n",
      "Kaspersky: Trojan.Win32.Agentb.bxhn\n",
      "Malwarebytes: Ransom.Filecoder\n",
      "MAX: malware (ai score=100)\n",
      "McAfee: RDN/Ransom-O\n",
      "McAfee-GW-Edition: RDN/Ransom-O\n",
      "Microsoft: Ransom:Win32/Tibbar.A\n",
      "NANO-Antivirus: Trojan.Win32.Petya.euuhye\n",
      "nProtect: Ransom/W32.BadRabbit.410760\n",
      "Palo Alto Networks: generic.ml\n",
      "Panda: W32/Ransom.G.worm\n",
      "Qihoo-360: Win32.Ransom.BadRabbit\n",
      "Rising: Trojan.Ransom.BadRabbit!1.AC3A (KTSE)\n",
      "Sophos AV: Mal/Ransom-FK\n",
      "Symantec: Ransom.BadRabbit\n",
      "Tencent: Win32.Trojan.Badrabbit.Lfbz\n",
      "TrendMicro: Ransom_BADRABBIT.A\n",
      "TrendMicro-HouseCall: Ransom_BADRABBIT.A\n",
      "VBA32: Trojan.BadRabbit\n",
      "VIPRE: Trojan.Win32.Generic!BT\n",
      "ViRobot: Trojan.Win32.S.Ransom.410760\n",
      "Webroot: W32.Badrabbit.Ransom\n",
      "Yandex: Trojan.Diskcoder!\n",
      "Zillya: Trojan.Diskcoder.Win32.101\n",
      "ZoneAlarm: Trojan.Win32.Agentb.bxhn\n",
      "Zoner: Trojan.Badrabbit\n",
      "Avast Mobile Security: Clean\n",
      "Baidu: Clean\n",
      "CMC: Clean\n",
      "Comodo: Clean\n",
      "Fortinet: Clean\n",
      "Kingsoft: Clean\n",
      "SentinelOne: Clean\n",
      "Sophos ML: Clean\n",
      "SUPERAntiSpyware: Clean\n",
      "TheHacker: Clean\n",
      "TotalDefense: Clean\n",
      "Alibaba: Unable to process file type\n",
      "Cybereason: Unable to process file type\n",
      "Symantec Mobile Insight: Unable to process file type\n",
      "Trustlook: Unable to process file type\n"
     ]
    }
   ],
   "source": [
    "elements_antivirus_result = browser.find_elements_by_xpath('//*[@id=\"detections\"]/div/p/span')\n",
    "results = [ e.text for e in elements_antivirus_result]\n",
    "print(results)\n",
    "for i in range(0,len(results),2):\n",
    "    print('%s: %s' % (results[i], results[i+1]))"
   ]
  },
  {
   "cell_type": "code",
   "execution_count": null,
   "metadata": {},
   "outputs": [],
   "source": []
  }
 ],
 "metadata": {
  "kernelspec": {
   "display_name": "Python 3",
   "language": "python",
   "name": "python3"
  },
  "language_info": {
   "codemirror_mode": {
    "name": "ipython",
    "version": 3
   },
   "file_extension": ".py",
   "mimetype": "text/x-python",
   "name": "python",
   "nbconvert_exporter": "python",
   "pygments_lexer": "ipython3",
   "version": "3.6.4"
  }
 },
 "nbformat": 4,
 "nbformat_minor": 2
}
